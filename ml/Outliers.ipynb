{
 "cells": [
  {
   "cell_type": "code",
   "execution_count": null,
   "id": "a3b0ee89",
   "metadata": {},
   "outputs": [],
   "source": [
    "# import modules\n",
    "import os, sys\n",
    "import matplotlib.pyplot as plt\n",
    "import numpy as np\n",
    "import nibabel as nib\n",
    "from tqdm import tqdm"
   ]
  },
  {
   "cell_type": "code",
   "execution_count": null,
   "id": "dc53be9d",
   "metadata": {},
   "outputs": [],
   "source": [
    "# load data\n",
    "directory = '/home/user/data'\n",
    "\n",
    "path = os.chdir(directory)\n",
    "\n",
    "image_D = os.path.join(directory, 'D.nii') # load Diffusion map\n",
    "image_pseudoD = os.path.join(directory, 'pseudoD.nii') # load Pseudo Diffusion map\n",
    "image_f = os.path.join(directory, 'f.nii') # load Perfusion Fraction map\n",
    "\n",
    "Nvoxels = dim1*dim2*dim3 # dimensions\n",
    "\n",
    "D = nib.load(image_D).get_fdata().reshape((Nvoxels,))\n",
    "pseudoD = nib.load(image_pseudoD).get_fdata().reshape((Nvoxels,))\n",
    "f = nib.load(image_f).get_fdata().reshape((Nvoxels,))\n",
    "\n",
    "D_nz = []\n",
    "pseudoD_nz = []\n",
    "f_nz = []\n",
    "\n",
    "for i in range(Nvoxels):\n",
    "    if D[i] != 0. or pseudoD[i] != 0. or f[i] != 0.:\n",
    "        D_nz.append(D[i])\n",
    "        pseudoD_nz.append(pseudoD[i])\n",
    "        f_nz.append(f[i])"
   ]
  },
  {
   "cell_type": "code",
   "execution_count": null,
   "id": "fdfbb4ca",
   "metadata": {},
   "outputs": [],
   "source": [
    "from sklearn.covariance import EllipticEnvelope\n",
    "from sklearn.ensemble import IsolationForest\n",
    "from sklearn.neighbors import LocalOutlierFactor\n",
    "\n",
    "class OutliersDetection:\n",
    "        \n",
    "    # algorithms of detection\n",
    "    def elliptic_envelope(data):\n",
    "        cov = EllipticEnvelope(random_state=0).fit(data)\n",
    "        out = []\n",
    "        arr = cov.predict(data) \n",
    "        for i in range(len(data[:,0])):\n",
    "            if arr[i] == -1:\n",
    "                out.append([data[i,0], data[i,1], data[i,2]])\n",
    "        return out\n",
    "                        \n",
    "    def isolation_forest(data):\n",
    "        cov = IsolationForest(random_state=0).fit(data)\n",
    "        out = []\n",
    "        arr = cov.predict(data) \n",
    "        for i in range(len(data[:,0])):\n",
    "            if arr[i] == -1:\n",
    "                out.append([data[i,0], data[i,1], data[i,2]])\n",
    "        return out\n",
    "    \n",
    "    def local_outlier_factor(data):\n",
    "        clf = LocalOutlierFactor(n_neighbors=2)\n",
    "        out = []\n",
    "        arr = clf.fit_predict(data) \n",
    "        for i in range(len(data[:,0])):\n",
    "            if arr[i] == -1:\n",
    "                out.append([data[i,0], data[i,1], data[i,2]])\n",
    "        return out"
   ]
  },
  {
   "cell_type": "code",
   "execution_count": null,
   "id": "b5c391a2",
   "metadata": {},
   "outputs": [],
   "source": [
    "data = np.array([D_nz,pseudoD_nz,f_nz]).transpose()\n",
    "outliers = OutliersDetection.elliptic_envelope(data) # choose the algorithm"
   ]
  }
 ],
 "metadata": {
  "kernelspec": {
   "display_name": "Python 3",
   "language": "python",
   "name": "python3"
  },
  "language_info": {
   "codemirror_mode": {
    "name": "ipython",
    "version": 3
   },
   "file_extension": ".py",
   "mimetype": "text/x-python",
   "name": "python",
   "nbconvert_exporter": "python",
   "pygments_lexer": "ipython3",
   "version": "3.9.6"
  }
 },
 "nbformat": 4,
 "nbformat_minor": 5
}
